{
  "nbformat": 4,
  "nbformat_minor": 0,
  "metadata": {
    "colab": {
      "provenance": [],
      "authorship_tag": "ABX9TyPJRwdqrve2JFPGDPXXzxtb",
      "include_colab_link": true
    },
    "kernelspec": {
      "name": "python3",
      "display_name": "Python 3"
    },
    "language_info": {
      "name": "python"
    }
  },
  "cells": [
    {
      "cell_type": "markdown",
      "metadata": {
        "id": "view-in-github",
        "colab_type": "text"
      },
      "source": [
        "<a href=\"https://colab.research.google.com/github/saianusha10/SE-team-9-/blob/main/BA_1.ipynb\" target=\"_parent\"><img src=\"https://colab.research.google.com/assets/colab-badge.svg\" alt=\"Open In Colab\"/></a>"
      ]
    },
    {
      "cell_type": "code",
      "execution_count": 3,
      "metadata": {
        "id": "CriMJvDQTJNn"
      },
      "outputs": [],
      "source": [
        "# calculator.py\n",
        "\n",
        "def add(x, y):\n",
        "    \"\"\"Addition\"\"\"\n",
        "    result = x + y\n",
        "    print(f\"The result of adding {x} and {y} is: {result}\")\n",
        "    return result\n",
        "\n",
        "def subtract(x, y):\n",
        "    \"\"\"Subtraction\"\"\"\n",
        "    result = x - y\n",
        "    print(f\"The result of subtracting {y} from {x} is: {result}\")\n",
        "    return result\n",
        "\n",
        "def multiply(x, y):\n",
        "    \"\"\"Multiplication\"\"\"\n",
        "    result = x * y\n",
        "    print(f\"The result of multiplying {x} and {y} is: {result}\")\n",
        "    return result\n",
        "\n",
        "def divide(x, y):\n",
        "    \"\"\"Division\"\"\"\n",
        "    if y == 0:\n",
        "        raise ValueError(\"Cannot divide by zero!\")\n",
        "    result = x / y\n",
        "    print(f\"The result of dividing {x} by {y} is: {result}\")\n",
        "    return result\n",
        "\n",
        "def sqrt(x):\n",
        "    '''Square root'''\n",
        "    result = x**(1/2)\n",
        "    print(f\"The square root of {x} is: {result}\")\n",
        "    return result #Fixed indentation"
      ]
    },
    {
      "cell_type": "code",
      "source": [
        "x = 10\n",
        "y = 5\n",
        "\n",
        "# Perform addition\n",
        "add(x, y)\n",
        "\n",
        "# Perform subtraction\n",
        "subtract(x, y)\n",
        "\n",
        "# Perform multiplication\n",
        "multiply(x, y)\n",
        "\n",
        "# Perform division\n",
        "divide(x, y)\n",
        "\n",
        "# Perform square root\n",
        "sqrt(x)"
      ],
      "metadata": {
        "colab": {
          "base_uri": "https://localhost:8080/"
        },
        "id": "GqJ-QheLtGA5",
        "outputId": "f757d273-26be-47d1-83da-634478eac7c2"
      },
      "execution_count": 4,
      "outputs": [
        {
          "output_type": "stream",
          "name": "stdout",
          "text": [
            "The result of adding 10 and 5 is: 15\n",
            "The result of subtracting 5 from 10 is: 5\n",
            "The result of multiplying 10 and 5 is: 50\n",
            "The result of dividing 10 by 5 is: 2.0\n",
            "The square root of 10 is: 3.1622776601683795\n"
          ]
        },
        {
          "output_type": "execute_result",
          "data": {
            "text/plain": [
              "3.1622776601683795"
            ]
          },
          "metadata": {},
          "execution_count": 4
        }
      ]
    }
  ]
}